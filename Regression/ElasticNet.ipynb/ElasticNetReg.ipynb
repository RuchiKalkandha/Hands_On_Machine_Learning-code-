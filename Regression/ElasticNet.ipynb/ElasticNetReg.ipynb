{
 "cells": [
  {
   "cell_type": "markdown",
   "id": "760d0369",
   "metadata": {},
   "source": [
    "<!-- applying elastic, ridge , lasso on multicollinear data -->"
   ]
  },
  {
   "cell_type": "code",
   "execution_count": 7,
   "id": "355fb4d5",
   "metadata": {},
   "outputs": [],
   "source": [
    "from sklearn.datasets import load_diabetes\n",
    "from sklearn.linear_model import LinearRegression, Ridge, Lasso, ElasticNet\n",
    "from sklearn.model_selection import train_test_split\n",
    "from sklearn.metrics import r2_score"
   ]
  },
  {
   "cell_type": "code",
   "execution_count": 8,
   "id": "8fc1b4f7",
   "metadata": {},
   "outputs": [
    {
     "data": {
      "text/plain": [
       "0.4399338661568968"
      ]
     },
     "execution_count": 8,
     "metadata": {},
     "output_type": "execute_result"
    }
   ],
   "source": [
    "X,y = load_diabetes(return_X_y = True)\n",
    "X_train, X_test, y_train, y_test =train_test_split(X,y,test_size=0.2, random_state=2)\n",
    "\n",
    "# Linear Regression\n",
    "reg = LinearRegression()\n",
    "reg.fit(X_train, y_train)\n",
    "y_pred = reg.predict(X_test)\n",
    "r2_score(y_test, y_pred)"
   ]
  },
  {
   "cell_type": "code",
   "execution_count": 9,
   "id": "5f41c76d",
   "metadata": {},
   "outputs": [
    {
     "data": {
      "text/plain": [
       "0.45199494197195456"
      ]
     },
     "execution_count": 9,
     "metadata": {},
     "output_type": "execute_result"
    }
   ],
   "source": [
    "# Ridge\n",
    "# tried for multiple alpha values, the highest r2 score was on alpha = 0.1\n",
    "reg = Ridge(alpha = 0.1)\n",
    "reg.fit(X_train, y_train)\n",
    "y_pred = reg.predict(X_test)\n",
    "r2_score(y_test, y_pred)"
   ]
  },
  {
   "cell_type": "code",
   "execution_count": 10,
   "id": "db64c744",
   "metadata": {},
   "outputs": [
    {
     "data": {
      "text/plain": [
       "0.44111855963110613"
      ]
     },
     "execution_count": 10,
     "metadata": {},
     "output_type": "execute_result"
    }
   ],
   "source": [
    "# Lasso\n",
    "# tried for multiple alpha values, the highest r2 score was on alpha = 0.1\n",
    "reg = Lasso(alpha = 0.01)\n",
    "reg.fit(X_train, y_train)\n",
    "y_pred = reg.predict(X_test)\n",
    "r2_score(y_test, y_pred)\n"
   ]
  },
  {
   "cell_type": "markdown",
   "id": "66056fd9",
   "metadata": {},
   "source": [
    "above we can see that ridge is working better than lasso, so while applying elasticnet we will give more weightage to ridge than lasso."
   ]
  },
  {
   "cell_type": "code",
   "execution_count": 11,
   "id": "031a2b41",
   "metadata": {},
   "outputs": [
    {
     "data": {
      "text/plain": [
       "0.4531474541554823"
      ]
     },
     "execution_count": 11,
     "metadata": {},
     "output_type": "execute_result"
    }
   ],
   "source": [
    "# ElasticNet\n",
    "reg = ElasticNet(alpha = 0.005, l1_ratio = 0.9)\n",
    "reg.fit(X_train, y_train)\n",
    "y_pred = reg.predict(X_test)\n",
    "r2_score(y_test, y_pred)"
   ]
  },
  {
   "cell_type": "markdown",
   "id": "c544efec",
   "metadata": {},
   "source": [
    "slight better result than both ridge and lasso"
   ]
  },
  {
   "cell_type": "code",
   "execution_count": 12,
   "id": "1212b728",
   "metadata": {},
   "outputs": [],
   "source": [
    "# we can also use elasticnet, using sGDRegressor\n",
    "# penalty parameter , 'l2' , 'l1' , 'elasticNet' teen option hote h\n",
    "# default l2 hota h"
   ]
  }
 ],
 "metadata": {
  "kernelspec": {
   "display_name": "Python 3",
   "language": "python",
   "name": "python3"
  },
  "language_info": {
   "codemirror_mode": {
    "name": "ipython",
    "version": 3
   },
   "file_extension": ".py",
   "mimetype": "text/x-python",
   "name": "python",
   "nbconvert_exporter": "python",
   "pygments_lexer": "ipython3",
   "version": "3.11.3"
  }
 },
 "nbformat": 4,
 "nbformat_minor": 5
}
